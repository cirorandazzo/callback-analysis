{
 "cells": [
  {
   "cell_type": "code",
   "execution_count": 1,
   "metadata": {},
   "outputs": [],
   "source": [
    "import pickle\n",
    "import pandas as pd"
   ]
  },
  {
   "cell_type": "code",
   "execution_count": 5,
   "metadata": {},
   "outputs": [
    {
     "name": "stdout",
     "output_type": "stream",
     "text": [
      "all_birds: <class 'list'> (8)\n",
      "df: <class 'pandas.core.frame.DataFrame'> (2190)\n",
      "rejected_trials_all: <class 'pandas.core.frame.DataFrame'> (173)\n",
      "call_types_all: <class 'pandas.core.frame.DataFrame'> (2363)\n"
     ]
    }
   ],
   "source": [
    "file = \"/Users/cirorandazzo/code/callback-analysis/data/data.pickle\"\n",
    "\n",
    "with open(file, \"rb\") as f:\n",
    "    loaded_data = pickle.load(f)\n",
    "\n",
    "for k, v in loaded_data.items():\n",
    "    print(f\"{k}: {type(v)} ({len(v)})\")"
   ]
  }
 ],
 "metadata": {
  "kernelspec": {
   "display_name": "callback-analysis",
   "language": "python",
   "name": "python3"
  },
  "language_info": {
   "codemirror_mode": {
    "name": "ipython",
    "version": 3
   },
   "file_extension": ".py",
   "mimetype": "text/x-python",
   "name": "python",
   "nbconvert_exporter": "python",
   "pygments_lexer": "ipython3",
   "version": "3.11.9"
  }
 },
 "nbformat": 4,
 "nbformat_minor": 2
}
