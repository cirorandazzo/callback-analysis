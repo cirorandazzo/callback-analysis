{
 "cells": [
  {
   "cell_type": "code",
   "execution_count": 1,
   "metadata": {},
   "outputs": [
    {
     "data": {
      "text/plain": [
       "(1495040,)"
      ]
     },
     "execution_count": 1,
     "metadata": {},
     "output_type": "execute_result"
    }
   ],
   "source": [
    "wav_path = \"/Volumes/AnxietyBU/callbacks/or60rd49/d1-baseline/or60rd49-d1-20240425114931-Block0.wav\"\n",
    "\n",
    "import numpy as np\n",
    "from scipy.io import wavfile\n",
    "import matplotlib.pyplot as plt\n",
    "import matplotlib.animation as animation\n",
    "%matplotlib widget\n",
    "\n",
    "%load_ext autoreload\n",
    "%autoreload 1\n",
    "\n",
    "fs, audio = wavfile.read(wav_path)\n",
    "\n",
    "cam_audio = audio[:,1]\n",
    "cam_audio.shape"
   ]
  },
  {
   "cell_type": "code",
   "execution_count": 3,
   "metadata": {},
   "outputs": [
    {
     "name": "stdout",
     "output_type": "stream",
     "text": [
      "Found 3718 video frames.\n"
     ]
    }
   ],
   "source": [
    "%aimport utils.video\n",
    "from utils.video import get_video_frames_from_callback_audio\n",
    "\n",
    "vid_frames = get_video_frames_from_callback_audio(cam_audio)\n",
    "vid_frames\n",
    "print(f'Found {len(vid_frames)} video frames.')"
   ]
  },
  {
   "cell_type": "code",
   "execution_count": null,
   "metadata": {},
   "outputs": [],
   "source": [
    "import time\n",
    "\n",
    "xmin_start = 0  # where to start animation\n",
    "xrange = 0.2  # length of x-axis\n",
    "dx = 0.025\n",
    "x_stop = 35\n",
    "\n",
    "fig = plt.figure()\n",
    "ax = fig.subplots()\n",
    "\n",
    "x_time = np.arange(len(cam_audio))/44100\n",
    "ax.plot(x_time, cam_audio)\n",
    "ax.scatter(vid_frames/44100, cam_audio[vid_frames], color='red')\n",
    "ax.set_xlabel('Time since video onset (s)')\n",
    "\n",
    "\n",
    "def update_xlim(frame):\n",
    "    global xmin\n",
    "    global xrange\n",
    "    global dx\n",
    "    global ax\n",
    "\n",
    "    if frame==0:\n",
    "        xmin = xmin_start\n",
    "    else:\n",
    "        xmin += dx\n",
    "\n",
    "    if frame%10 == 0:\n",
    "        ax.set_title(f'Frame {frame}')\n",
    "    \n",
    "    ax.set_xlim([xmin, xmin+xrange])\n",
    "\n",
    "    return ax\n",
    "\n",
    "n_frames = round((x_stop - xmin_start) / dx)\n",
    "# n_frames = 100\n",
    "\n",
    "sim = animation.FuncAnimation(fig, update_xlim, frames=n_frames, interval=75, repeat=True)\n",
    "\n",
    "plt.show()\n"
   ]
  }
 ],
 "metadata": {
  "kernelspec": {
   "display_name": "callback-analysis",
   "language": "python",
   "name": "python3"
  },
  "language_info": {
   "codemirror_mode": {
    "name": "ipython",
    "version": 3
   },
   "file_extension": ".py",
   "mimetype": "text/x-python",
   "name": "python",
   "nbconvert_exporter": "python",
   "pygments_lexer": "ipython3",
   "version": "3.11.9"
  }
 },
 "nbformat": 4,
 "nbformat_minor": 2
}
