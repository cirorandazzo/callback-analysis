{
 "cells": [
  {
   "cell_type": "code",
   "execution_count": null,
   "metadata": {},
   "outputs": [],
   "source": [
    "%load_ext autoreload\n",
    "%autoreload 1\n",
    "\n",
    "import glob\n",
    "import numpy as np\n",
    "import pandas as pd\n",
    "from sklearn.neighbors import KernelDensity\n",
    "\n",
    "import matplotlib.pyplot as plt\n",
    "%matplotlib widget\n",
    "\n",
    "import pickle\n",
    "import os"
   ]
  },
  {
   "cell_type": "code",
   "execution_count": null,
   "metadata": {},
   "outputs": [],
   "source": [
    "# file = \"/Users/cirorandazzo/code/callback-analysis/data/tati-dyads/or31rd57-calls.csv\"\n",
    "file = \"/Users/cirorandazzo/code/callback-analysis/data/tati-dyads/or31rd57-trials.csv\"\n",
    "\n",
    "df = pd.read_csv(file)\n",
    "\n",
    "latency = np.array(df[\"latency_s\"])\n",
    "latency = latency[~np.isnan(latency)].reshape(-1, 1)\n",
    "latency"
   ]
  },
  {
   "cell_type": "code",
   "execution_count": 36,
   "metadata": {},
   "outputs": [],
   "source": [
    "plt.close(\"all\")"
   ]
  },
  {
   "cell_type": "code",
   "execution_count": null,
   "metadata": {},
   "outputs": [],
   "source": [
    "kde = KernelDensity(kernel=\"gaussian\", bandwidth=0.05).fit(latency)\n",
    "\n",
    "x_kde = np.arange(0, 2, 0.0001)\n",
    "y_kde = np.exp(kde.score_samples(x_kde.reshape(-1, 1)))\n",
    "\n",
    "hist_binwidth = 0.05\n",
    "\n",
    "\n",
    "fig, ax = plt.subplots()\n",
    "\n",
    "probs, bins = np.histogram(\n",
    "    latency,\n",
    "    bins=np.arange(0, np.max(latency) + 2 * hist_binwidth, hist_binwidth),\n",
    "    density=True,\n",
    ")\n",
    "plt.stairs(probs, bins, label=\"Actual density\")\n",
    "\n",
    "ax.plot(\n",
    "    x_kde,\n",
    "    y_kde,\n",
    "    label=\"Estimated density\",\n",
    ")\n",
    "\n",
    "i_max = np.argmax(y_kde)\n",
    "latency_spline_fit = x_kde[i_max]\n",
    "\n",
    "ax.scatter(\n",
    "    x_kde[i_max],\n",
    "    y_kde[i_max],\n",
    "    label=f\"Latency: {latency_spline_fit:.4f}s\",\n",
    ")\n",
    "\n",
    "ax.set(\n",
    "    xlabel=\"Latency (s)\",\n",
    "    ylabel=\"Density\",\n",
    "    title=\"or31rd57 latencies\",\n",
    ")\n",
    "\n",
    "ax.legend()\n",
    "\n",
    "plt.show()"
   ]
  }
 ],
 "metadata": {
  "kernelspec": {
   "display_name": "callback-analysis",
   "language": "python",
   "name": "python3"
  },
  "language_info": {
   "codemirror_mode": {
    "name": "ipython",
    "version": 3
   },
   "file_extension": ".py",
   "mimetype": "text/x-python",
   "name": "python",
   "nbconvert_exporter": "python",
   "pygments_lexer": "ipython3",
   "version": "3.11.9"
  }
 },
 "nbformat": 4,
 "nbformat_minor": 2
}
