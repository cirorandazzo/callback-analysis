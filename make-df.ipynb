{
 "cells": [
  {
   "cell_type": "code",
   "execution_count": null,
   "metadata": {},
   "outputs": [],
   "source": [
    "%load_ext autoreload\n",
    "%autoreload 1\n",
    "\n",
    "import glob\n",
    "import numpy as np\n",
    "import pandas as pd\n",
    "from collections import OrderedDict\n",
    "\n",
    "import os\n",
    "\n",
    "import matplotlib.pyplot as plt\n",
    "%matplotlib widget\n",
    "\n",
    "processed_directory = './data/processed_mats/*.mat'\n",
    "# processed_directory = '/Volumes/AnxietyBU/callbacks/processed/*.mat'\n",
    "\n",
    "bird = \"all_birds\"  # just for file name\n",
    "save_pickle_path = './data/data.pickle'\n",
    "save_csv_directory = \"./data\"\n",
    "\n",
    "acceptable_call_labels = ['Call', 'Stimulus']  # any stimulus_trials containing call types NOT in this list are excluded (this includes unlabeled, which are stored as 'USV'!!)\n",
    "\n",
    "files = [f for f in glob.glob(processed_directory)]\n",
    "\n",
    "# or only specific files. Note: may mess up histograms, which may require data from >1 file\n",
    "# files = [\n",
    "#     './data/processed_mats/or60rd49-d1-20240425115050-Block1-PROCESSED.mat',\n",
    "#     './data/processed_mats/or60rd49-d2-20240426114923-Block1-PROCESSED.mat'\n",
    "# ]\n",
    "files"
   ]
  },
  {
   "cell_type": "code",
   "execution_count": null,
   "metadata": {},
   "outputs": [],
   "source": [
    "%aimport utils.callbacks\n",
    "from utils.callbacks import call_mat_stim_trial_loader\n",
    "from utils.file import multi_index_from_dict\n",
    "\n",
    "df = pd.DataFrame()\n",
    "\n",
    "call_types_all = pd.DataFrame()\n",
    "rejected_trials_all = pd.DataFrame()\n",
    "calls_all = pd.DataFrame()\n",
    "\n",
    "for file in files:\n",
    "\n",
    "    try:\n",
    "        calls_df, stim_trials, rejected_trials, file_info, call_types = call_mat_stim_trial_loader(\n",
    "                file, \n",
    "                acceptable_call_labels=acceptable_call_labels, \n",
    "                from_notmat=True, \n",
    "                verbose=False,\n",
    "            )\n",
    "    except TypeError:\n",
    "        print(f\"Failed to make dataframe for file: {file}\")\n",
    "        continue\n",
    "\n",
    "    # TODO: make this a nicely editable parameter\n",
    "    multi_index_info = OrderedDict()\n",
    "    # multi_index_info['birdname'] = file_info['birdname']\n",
    "    # multi_index_info['day'] = int(file_info['d'])\n",
    "    # multi_index_info['block'] = int(file_info['block'])\n",
    "    multi_index_info['file'] = os.path.split(file)[-1]\n",
    "\n",
    "    # create multiindex: birdname, stim_trial_index, call_index\n",
    "    stim_trials = multi_index_from_dict(\n",
    "        stim_trials, \n",
    "        multi_index_info, \n",
    "        keep_current_index=True,\n",
    "    )\n",
    "    df = pd.concat((df, stim_trials), axis='rows')\n",
    "    \n",
    "    rejected_trials = multi_index_from_dict(\n",
    "        rejected_trials, \n",
    "        multi_index_info, \n",
    "        keep_current_index=True\n",
    "    )\n",
    "    rejected_trials_all = pd.concat((rejected_trials_all, rejected_trials), axis='rows')\n",
    "\n",
    "    call_types = multi_index_from_dict(\n",
    "        call_types, \n",
    "        multi_index_info, \n",
    "        keep_current_index=True\n",
    "    )\n",
    "    call_types_all = pd.concat((call_types_all, call_types), axis='rows')\n",
    "\n",
    "    calls_df = multi_index_from_dict(\n",
    "        calls_df, \n",
    "        multi_index_info, \n",
    "        keep_current_index=True\n",
    "    )\n",
    "    calls_all = pd.concat((calls_all, calls_df), axis='rows')\n",
    "\n",
    "print('Rejected trials:')\n",
    "rejected_trials_all"
   ]
  },
  {
   "cell_type": "code",
   "execution_count": null,
   "metadata": {},
   "outputs": [],
   "source": [
    "print(\n",
    "    \"Call types in rejected trials.\"\n",
    "    + \"\\nLabel `USV` means an accepted call was not given a label.\"\n",
    "    + \"\\nGo back to DeepSqueak & fix ths.\"\n",
    ")\n",
    "\n",
    "rejected_trial_call_types = call_types_all.loc[rejected_trials_all.index]\n",
    "rejected_trial_call_types\n",
    "# TODO: add stim index to rej trial type df (is this the first stim?)\n",
    "\n",
    "# # see only blocks with a specific call type\n",
    "#\n",
    "# label = 'USV'\n",
    "# label = 'Noise'\n",
    "# call_types_all.loc[~np.isnan(call_types_all.loc[:, label])]"
   ]
  },
  {
   "cell_type": "code",
   "execution_count": null,
   "metadata": {},
   "outputs": [],
   "source": [
    "df.sort_index(inplace=True)\n",
    "df"
   ]
  },
  {
   "cell_type": "code",
   "execution_count": null,
   "metadata": {},
   "outputs": [],
   "source": [
    "all_birds = list(set(df.index.get_level_values(0)))\n",
    "all_birds"
   ]
  },
  {
   "cell_type": "code",
   "execution_count": null,
   "metadata": {},
   "outputs": [],
   "source": [
    "# eliminate all block 0s - account for first loom bug\n",
    "\n",
    "# raise Exception('Make sure you want to do this! You will need to reload the data afterward if you want block 0 back.')\n",
    "\n",
    "# blocks = df.index.get_level_values(2)\n",
    "# df = df[blocks != 0]\n",
    "\n",
    "df"
   ]
  },
  {
   "cell_type": "code",
   "execution_count": null,
   "metadata": {},
   "outputs": [],
   "source": [
    "if save_pickle_path is not None:\n",
    "    import pickle\n",
    "\n",
    "    to_save = dict(\n",
    "        all_birds=all_birds,\n",
    "        df=df,\n",
    "        rejected_trials_all=rejected_trials_all,\n",
    "        calls_all=calls_all,\n",
    "        call_types_all=call_types_all,\n",
    "    )\n",
    "\n",
    "    with open(save_pickle_path, \"wb\") as f:\n",
    "        pickle.dump(to_save, file=f)\n",
    "\n",
    "print(f\"Saved to: {save_pickle_path}\")"
   ]
  },
  {
   "cell_type": "code",
   "execution_count": null,
   "metadata": {},
   "outputs": [],
   "source": [
    "if save_csv_directory is not None:\n",
    "    df.to_csv(os.path.join(save_csv_directory, f\"{bird}-trials.csv\"))\n",
    "    calls_all.to_csv(os.path.join(save_csv_directory, f\"{bird}-calls.csv\"))\n",
    "\n",
    "print(f\"Saved to: {save_csv_directory}\")"
   ]
  }
 ],
 "metadata": {
  "kernelspec": {
   "display_name": "callback-analysis",
   "language": "python",
   "name": "python3"
  },
  "language_info": {
   "codemirror_mode": {
    "name": "ipython",
    "version": 3
   },
   "file_extension": ".py",
   "mimetype": "text/x-python",
   "name": "python",
   "nbconvert_exporter": "python",
   "pygments_lexer": "ipython3",
   "version": "3.11.9"
  }
 },
 "nbformat": 4,
 "nbformat_minor": 2
}
