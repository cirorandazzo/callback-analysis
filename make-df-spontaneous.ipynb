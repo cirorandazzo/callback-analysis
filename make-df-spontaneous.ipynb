{
 "cells": [
  {
   "cell_type": "code",
   "execution_count": null,
   "metadata": {},
   "outputs": [],
   "source": [
    "import glob\n",
    "import os\n",
    "import pandas as pd\n",
    "\n",
    "# NOTE:\n",
    "# Column `ici` only takes time when 2 things labeled \"Call\" (\"c\" in .not.mat) occur back-to-back.\n",
    "# However, `ici` is taken from col `time_from_prev_onset_s`, which computes interval between each 2 things, regardless of what they are.\n",
    "# So, if you know that everything in the file is a call, you can safely use `time_from_prev_onset_s` for ICI.\n",
    "\n",
    "bird = \"rd86gr89\"\n",
    "processed_directory = f\"./data/spontaneous_trial/*.not.mat\"\n",
    "save_csv_directory = f\"./data/spontaneous_trial\"\n",
    "\n",
    "files = [f for f in glob.glob(processed_directory)]\n",
    "\n",
    "# or only specific files. Note: may mess up histograms, which may require data from >1 file\n",
    "# files = [\n",
    "#     './data/processed_mats/or60rd49-d1-20240425115050-Block1-PROCESSED.mat',\n",
    "#     './data/processed_mats/or60rd49-d2-20240426114923-Block1-PROCESSED.mat'\n",
    "# ]\n",
    "files"
   ]
  },
  {
   "cell_type": "code",
   "execution_count": null,
   "metadata": {},
   "outputs": [],
   "source": [
    "from utils.callbacks import make_calls_df_from_notmat\n",
    "\n",
    "calls_all = pd.DataFrame()\n",
    "\n",
    "for file in files:\n",
    "    df = make_calls_df_from_notmat(file)\n",
    "    df[\"file\"] = file\n",
    "    calls_all = pd.concat([calls_all, df])\n",
    "\n",
    "calls_all = calls_all.set_index(\"file\", append=True).swaplevel()\n",
    "\n",
    "calls_all"
   ]
  },
  {
   "cell_type": "code",
   "execution_count": null,
   "metadata": {},
   "outputs": [],
   "source": [
    "if save_csv_directory is not None:\n",
    "    calls_all.to_csv(os.path.join(save_csv_directory, f\"{bird}-calls.csv\"))\n",
    "\n",
    "print(f\"Saved to: {save_csv_directory}\")"
   ]
  }
 ],
 "metadata": {
  "kernelspec": {
   "display_name": "callback-analysis",
   "language": "python",
   "name": "python3"
  },
  "language_info": {
   "codemirror_mode": {
    "name": "ipython",
    "version": 3
   },
   "file_extension": ".py",
   "mimetype": "text/x-python",
   "name": "python",
   "nbconvert_exporter": "python",
   "pygments_lexer": "ipython3",
   "version": "3.11.9"
  }
 },
 "nbformat": 4,
 "nbformat_minor": 2
}
